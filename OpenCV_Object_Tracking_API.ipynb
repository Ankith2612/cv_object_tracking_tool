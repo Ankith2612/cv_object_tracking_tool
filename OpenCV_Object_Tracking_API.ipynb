{
 "cells": [
  {
   "cell_type": "code",
   "execution_count": null,
   "metadata": {},
   "outputs": [],
   "source": [
    "import numpy as np\n",
    "import cv2\n",
    "import matplotlib.pyplot as plt\n",
    "from dataPath import DATA_PATH\n",
    "%matplotlib inline"
   ]
  },
  {
   "cell_type": "code",
   "execution_count": null,
   "metadata": {},
   "outputs": [],
   "source": [
    "import matplotlib\n",
    "matplotlib.rcParams['figure.figsize'] = (6.0,6.0)\n",
    "matplotlib.rcParams['image.cmap'] = 'gray'"
   ]
  },
  {
   "cell_type": "code",
   "execution_count": null,
   "metadata": {},
   "outputs": [],
   "source": [
    "# Set up tracker.\n",
    "\n",
    "tracker_types = ['BOOSTING', 'MIL','KCF', 'TLD', 'MEDIANFLOW', 'GOTURN', 'CSRT', 'MOSSE']\n",
    "tracker_type = tracker_types[2]"
   ]
  },
  {
   "cell_type": "code",
   "execution_count": null,
   "metadata": {},
   "outputs": [],
   "source": [
    "if tracker_type == 'BOOSTING':\n",
    "    tracker = cv2.TrackerBoosting_create()\n",
    "elif tracker_type == 'MIL':\n",
    "    tracker = cv2.TrackerMIL_create()\n",
    "elif tracker_type == 'KCF':\n",
    "    tracker = cv2.TrackerKCF_create()\n",
    "elif tracker_type == 'TLD':\n",
    "    tracker = cv2.TrackerTLD_create()\n",
    "elif tracker_type == 'MEDIANFLOW':\n",
    "    tracker = cv2.TrackerMedianFlow_create()\n",
    "elif tracker_type == 'GOTURN':\n",
    "    tracker = cv2.TrackerGOTURN_create()\n",
    "elif tracker_type == \"CSRT\":\n",
    "    tracker = cv2.TrackerCSRT_create()\n",
    "elif tracker_type == \"MOSSE\":\n",
    "    tracker = cv2.TrackerMOSSE_create()\n",
    "else:\n",
    "    tracker = None\n",
    "    print('Incorrect tracker name')\n",
    "    print('Available trackers are:')\n",
    "    for t in trackerTypes:\n",
    "        print(t)"
   ]
  },
  {
   "cell_type": "code",
   "execution_count": null,
   "metadata": {},
   "outputs": [],
   "source": [
    "# Read video\n",
    "video = cv2.VideoCapture(DATA_PATH + \"videos/hockey.mp4\")\n",
    "\n",
    "# Exit if video not opened.\n",
    "if not video.isOpened():\n",
    "    print(\"Could not open video\")\n",
    "\n",
    "# Read first frame.\n",
    "ok, frame = video.read()\n",
    "if not ok:\n",
    "    print('Cannot read video file')\n",
    "\n",
    "# Define a few colors for drawing\n",
    "red = (0,0,255)\n",
    "blue = (255,128,0)"
   ]
  },
  {
   "cell_type": "code",
   "execution_count": null,
   "metadata": {},
   "outputs": [],
   "source": [
    "# Define an initial bounding box\n",
    "# Cycle\n",
    "bbox = (477, 254, 55, 152)\n",
    "\n",
    "# ship\n",
    "# bbox = (751, 146, 51, 78)\n",
    "\n",
    "# Hockey\n",
    "# bbox = (129, 47, 74, 85)\n",
    "\n",
    "# Face2\n",
    "# bbox = (237, 145, 74, 88)\n",
    "\n",
    "# meeting\n",
    "# bbox = (627, 183, 208, 190)     #CSRT\n",
    "# bbox = (652, 187, 118, 123)       #KCF\n",
    "\n",
    "# surfing\n",
    "# bbox = (97, 329, 118, 293)\n",
    "\n",
    "# surf\n",
    "# bbox = (548, 587, 52, 87)\n",
    "\n",
    "# spinning\n",
    "# bbox = (232, 218, 377, 377)       #RED\n",
    "# bbox = (699, 208, 383, 391)         #BLUE\n",
    "\n",
    "# Car\n",
    "# bbox = (71, 457, 254, 188)"
   ]
  },
  {
   "cell_type": "code",
   "execution_count": null,
   "metadata": {},
   "outputs": [],
   "source": [
    "# bbox = cv2.selectROI(frame, False)\n",
    "\n",
    "# Initialize tracker with first frame and bounding box\n",
    "ok = tracker.init(frame, bbox)\n",
    "\n",
    "# Display bounding box.\n",
    "p1 = (int(bbox[0]), int(bbox[1]))\n",
    "p2 = (int(bbox[0] + bbox[2]), int(bbox[1] + bbox[3]))\n",
    "cv2.rectangle(frame, p1, p2, blue, 2, 1 )\n",
    "\n",
    "plt.imshow(frame[:,:,::-1])\n",
    "plt.title(\"Tracking\")"
   ]
  },
  {
   "cell_type": "code",
   "execution_count": null,
   "metadata": {},
   "outputs": [],
   "source": [
    "# We will display only first 5 frames\n",
    "count = 0\n",
    "\n",
    "while True:\n",
    "    # Read a new frame\n",
    "    ok, frame = video.read()\n",
    "    if not ok:\n",
    "        break\n",
    "\n",
    "    # Start timer\n",
    "    timer = cv2.getTickCount()\n",
    "    \n",
    "    # Update tracker\n",
    "    ok, bbox = tracker.update(frame)\n",
    "    \n",
    "    # Calculate processing time and display results.\n",
    "    # Calculate Frames per second (FPS)\n",
    "    fps = cv2.getTickFrequency() / (cv2.getTickCount() - timer);\n",
    "\n",
    "    # Draw bounding box\n",
    "    if ok:\n",
    "      # Tracking success\n",
    "      p1 = (int(bbox[0]), int(bbox[1]))\n",
    "      p2 = (int(bbox[0] + bbox[2]), int(bbox[1] + bbox[3]))\n",
    "      cv2.rectangle(frame, p1, p2, (255,0,0), 2, 1)\n",
    "    else :\n",
    "      # Tracking failure\n",
    "      cv2.putText(frame, \"Tracking failure detected\", (20,80), \n",
    "                  cv2.FONT_HERSHEY_SIMPLEX, 0.75,red,2)\n",
    "\n",
    "    # Display tracker type on frame\n",
    "    cv2.putText(frame, tracker_type + \" Tracker\", (20,20), \n",
    "                cv2.FONT_HERSHEY_SIMPLEX, 0.75, blue,2);\n",
    "    \n",
    "    # Display FPS on frame\n",
    "    cv2.putText(frame, \"FPS : \" + str(int(fps)), (20,50), \n",
    "                cv2.FONT_HERSHEY_SIMPLEX, 0.75, blue, 2);\n",
    "\n",
    "    # Display result\n",
    "    plt.imshow(frame[:,:,::-1])\n",
    "    plt.show()\n",
    "    \n",
    "    count += 1\n",
    "    if count == 500:\n",
    "        break"
   ]
  },
  {
   "cell_type": "code",
   "execution_count": null,
   "metadata": {},
   "outputs": [],
   "source": []
  }
 ],
 "metadata": {
  "kernelspec": {
   "display_name": "Python OpenCV",
   "language": "python",
   "name": "opencv-env"
  },
  "language_info": {
   "codemirror_mode": {
    "name": "ipython",
    "version": 3
   },
   "file_extension": ".py",
   "mimetype": "text/x-python",
   "name": "python",
   "nbconvert_exporter": "python",
   "pygments_lexer": "ipython3",
   "version": "3.12.0"
  }
 },
 "nbformat": 4,
 "nbformat_minor": 2
}
